{
 "cells": [
  {
   "cell_type": "code",
   "execution_count": 1,
   "id": "15a8cd16",
   "metadata": {},
   "outputs": [],
   "source": [
    "import os\n",
    "from os import path\n",
    "from os import system as cmd"
   ]
  },
  {
   "cell_type": "code",
   "execution_count": 2,
   "id": "ca3c2311",
   "metadata": {},
   "outputs": [
    {
     "name": "stdout",
     "output_type": "stream",
     "text": [
      "Music ------ ['mp3', 'wav']\n",
      "Documents -- ['pdf', 'doc', 'docx', 'ppt', 'xls', 'txt']\n",
      "Videos ----- ['mp4', 'wmv', 'avi', 'mov', 'mkv', '3gp']\n",
      "Compressed - ['zip', 'rar', 'jar', 'tar', '7z', 'gz', 'gzip', 'pak']\n",
      "Executables  ['exe', 'msi']\n",
      "Images ----- ['jpeg', 'jpg', 'png', 'bmp']\n",
      "\n"
     ]
    }
   ],
   "source": [
    "# dictionary of foldername to their extensions\n",
    "folderNameExtensions={'Music':'mp3 wav',\n",
    "                         'Documents':'pdf doc docx ppt xls txt',\n",
    "                         'Videos':'mp4 wmv avi mov mkv 3gp',\n",
    "                         'Compressed':'zip rar jar tar 7z gz gzip pak',\n",
    "                         'Executables':'exe msi',\n",
    "                         'Images':\"jpeg jpg png bmp\"\n",
    "                     }\n",
    "# converting the extension string into list\n",
    "for k in folderNameExtensions:\n",
    "    folderNameExtensions[k]=folderNameExtensions[k].split(' ')\n",
    "\n",
    "# converting the extension names to uppercase\n",
    "extensionsUpper2folderName={}\n",
    "for foldername in folderNameExtensions:\n",
    "    print(foldername,'-'*(11-len(foldername)),folderNameExtensions[foldername])\n",
    "    for extension in folderNameExtensions[foldername]:\n",
    "        extensionsUpper2folderName[extension.upper()]=foldername\n",
    "print()"
   ]
  },
  {
   "cell_type": "code",
   "execution_count": 12,
   "id": "ad182911",
   "metadata": {},
   "outputs": [],
   "source": [
    "#geting list of all files and folder in the working directory\n",
    "all_files_and_dir=os.listdir()\n",
    "all_files_and_dir_upper=[]\n",
    "for i,j in enumerate(all_files_and_dir):\n",
    "    all_files_and_dir_upper.append( j.upper() )"
   ]
  },
  {
   "cell_type": "code",
   "execution_count": 13,
   "id": "099bec5e",
   "metadata": {},
   "outputs": [],
   "source": [
    "# creating the directories if not exist\n",
    "for k in folderNameExtensions.keys():\n",
    "    if(k.upper() not in all_files_and_dir_upper):\n",
    "        cmd('md '+k)"
   ]
  },
  {
   "cell_type": "code",
   "execution_count": 18,
   "id": "a51a7d6e",
   "metadata": {},
   "outputs": [
    {
     "name": "stdout",
     "output_type": "stream",
     "text": [
      "move a (2).mp3 -->Music\\a (2).mp3\n",
      "move a.mp3     -->Music\\a.mp3\n",
      "\n",
      "number of files moved : 2\n"
     ]
    }
   ],
   "source": [
    "noOfFilesMoved=0\n",
    "# processing\n",
    "for name in all_files_and_dir:\n",
    "    if(path.isfile(name)):\n",
    "        #getting the extension\n",
    "        extension=name.split('.')[-1]\n",
    "        \n",
    "        #check if the extension matches\n",
    "        if(extension.upper() in extensionsUpper2folderName.keys()):\n",
    "            foldername=extensionsUpper2folderName[extension.upper()]\n",
    "            # if file not exist already\n",
    "            if( not path.exists(foldername+'\\\\'+name)):\n",
    "                newfilename=foldername+'\\\\'+name\n",
    "                cmd('move \"{}\" \"{}\"'.format(name,newfilename))\n",
    "            # if file exist previously\n",
    "            else:\n",
    "                i=2\n",
    "                while(path.exists(foldername+'\\\\'+''.join(name.split('.')[:-2])+f\" ({i})\"+f\".{extension}\")):\n",
    "                    i+=1\n",
    "                newfilename=foldername+'\\\\'+''.join(name.split('.')[:-1])+f\" ({i}).{extension}\"\n",
    "                cmd('move \"{}\" \"{}\"'.format(name,newfilename))\n",
    "            print(f\"move {name}\"+' '*(12-len(name))+'--> '+\"{}\".format(newfilename))\n",
    "            noOfFilesMoved+=1\n",
    "print('\\nnumber of files moved :',noOfFilesMoved)"
   ]
  },
  {
   "cell_type": "code",
   "execution_count": null,
   "id": "65ad56d0",
   "metadata": {},
   "outputs": [],
   "source": []
  },
  {
   "cell_type": "code",
   "execution_count": null,
   "id": "30bab08a",
   "metadata": {},
   "outputs": [],
   "source": []
  },
  {
   "cell_type": "code",
   "execution_count": null,
   "id": "96cc7264",
   "metadata": {},
   "outputs": [],
   "source": []
  }
 ],
 "metadata": {
  "kernelspec": {
   "display_name": "Python 3",
   "language": "python",
   "name": "python3"
  },
  "language_info": {
   "codemirror_mode": {
    "name": "ipython",
    "version": 3
   },
   "file_extension": ".py",
   "mimetype": "text/x-python",
   "name": "python",
   "nbconvert_exporter": "python",
   "pygments_lexer": "ipython3",
   "version": "3.7.4"
  }
 },
 "nbformat": 4,
 "nbformat_minor": 5
}
