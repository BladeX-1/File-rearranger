{
 "cells": [
  {
   "cell_type": "code",
   "execution_count": 1,
   "id": "f8469819",
   "metadata": {},
   "outputs": [],
   "source": [
    "import os\n",
    "from os import path\n",
    "from os import system as cmd"
   ]
  },
  {
   "cell_type": "code",
   "execution_count": 2,
   "id": "3347da4d",
   "metadata": {},
   "outputs": [],
   "source": [
    "all_files_and_dir=os.listdir()"
   ]
  },
  {
   "cell_type": "code",
   "execution_count": 3,
   "id": "7ed272af",
   "metadata": {},
   "outputs": [],
   "source": [
    "all_files_and_dir_upper=[]\n",
    "for i,j in enumerate(all_files_and_dir):\n",
    "    all_files_and_dir_upper.append( j.upper() )"
   ]
  },
  {
   "cell_type": "code",
   "execution_count": 4,
   "id": "570b1d1f",
   "metadata": {},
   "outputs": [],
   "source": [
    "folderName2exetenctions={'Music':'mp3',\n",
    "                         'Documents':'pdf doc docx ppt xls txt'.split(' '),\n",
    "                         'Videos':'mp4 wmv avi mov mkv 3gp'.split(' '),\n",
    "                         'Compressed':'zip rar jar tar 7z gz gzip pak z'.split(' '),\n",
    "                         'Executables':'exe msi'.split(' ')\n",
    "                        }\n",
    "exetenctionsUpper2folderName={}\n",
    "for foldername in folderName2exetenctions:\n",
    "    for exetenction in folderName2exetenctions[foldername]:\n",
    "        exetenctionsUpper2folderName[exetenction.upper()]=foldername"
   ]
  },
  {
   "cell_type": "code",
   "execution_count": 5,
   "id": "890bf327",
   "metadata": {},
   "outputs": [
    {
     "name": "stdout",
     "output_type": "stream",
     "text": [
      "{'M': 'Music', 'P': 'Music', '3': 'Music', 'PDF': 'Documents', 'DOC': 'Documents', 'DOCX': 'Documents', 'PPT': 'Documents', 'XLS': 'Documents', 'TXT': 'Documents', 'MP4': 'Videos', 'WMV': 'Videos', 'AVI': 'Videos', 'MOV': 'Videos', 'MKV': 'Videos', '3GP': 'Videos', 'ZIP': 'Compressed', 'RAR': 'Compressed', 'JAR': 'Compressed', 'TAR': 'Compressed', '7Z': 'Compressed', 'GZ': 'Compressed', 'GZIP': 'Compressed', 'PAK': 'Compressed', 'Z': 'Compressed', 'EXE': 'Executables', 'MSI': 'Executables'}\n"
     ]
    }
   ],
   "source": [
    "print(exetenctionsUpper2folderName)"
   ]
  },
  {
   "cell_type": "code",
   "execution_count": 6,
   "id": "32fb4e58",
   "metadata": {},
   "outputs": [],
   "source": [
    "for k in folderName2exetenctions.keys():\n",
    "    if(k.upper() not in all_files_and_dir_upper):\n",
    "        cmd('md '+k)"
   ]
  },
  {
   "cell_type": "code",
   "execution_count": 7,
   "id": "e0f88270",
   "metadata": {},
   "outputs": [
    {
     "name": "stdout",
     "output_type": "stream",
     "text": [
      "gitattributes\n",
      "gitignore\n",
      "txt\n",
      "here\n",
      "pdf\n",
      "here\n",
      "py\n",
      "pdf\n",
      "here\n",
      "pdf\n",
      "here\n",
      "msi\n",
      "here\n",
      "pdf\n",
      "here\n",
      "zip\n",
      "here\n",
      "py\n",
      "msi\n",
      "here\n",
      "zip\n",
      "here\n",
      "zip\n",
      "here\n",
      "zip\n",
      "here\n",
      "pdf\n",
      "here\n",
      "pdf\n",
      "here\n",
      "md\n",
      "txt\n",
      "here\n",
      "ipynb\n",
      "txt\n",
      "here\n"
     ]
    }
   ],
   "source": [
    "for name in all_files_and_dir:\n",
    "    if(path.isfile(name)):\n",
    "        namel=list(name)\n",
    "        namel.reverse()\n",
    "        namel.append('.')\n",
    "        namel=namel[0:namel.index('.')]\n",
    "        namel.reverse()\n",
    "        exetenction=str(''.join(namel))\n",
    "        print(exetenction)\n",
    "        if(exetenction.upper() in exetenctionsUpper2folderName.keys()):\n",
    "            print('here')\n",
    "            foldername=exetenctionsUpper2folderName[exetenction.upper()]\n",
    "            if( not path.exists('move \"{}\" \"{}\"'.format(name,foldername+'\\\\'+name)) ):\n",
    "                cmd('move \"{}\" \"{}\"'.format(name,foldername+'\\\\'+name))"
   ]
  },
  {
   "cell_type": "code",
   "execution_count": null,
   "id": "2f0636cc",
   "metadata": {},
   "outputs": [],
   "source": []
  },
  {
   "cell_type": "code",
   "execution_count": null,
   "id": "3435e497",
   "metadata": {},
   "outputs": [],
   "source": []
  },
  {
   "cell_type": "code",
   "execution_count": null,
   "id": "7d4a39e3",
   "metadata": {},
   "outputs": [],
   "source": []
  }
 ],
 "metadata": {
  "kernelspec": {
   "display_name": "Python 3",
   "language": "python",
   "name": "python3"
  },
  "language_info": {
   "codemirror_mode": {
    "name": "ipython",
    "version": 3
   },
   "file_extension": ".py",
   "mimetype": "text/x-python",
   "name": "python",
   "nbconvert_exporter": "python",
   "pygments_lexer": "ipython3",
   "version": "3.7.4"
  }
 },
 "nbformat": 4,
 "nbformat_minor": 5
}
